{
 "cells": [
  {
   "cell_type": "code",
   "source": [
    "# from google.colab import drive\n",
    "# drive.mount('/content/drive')"
   ],
   "metadata": {
    "colab": {
     "base_uri": "https://localhost:8080/",
     "height": 342
    },
    "id": "50btTucDm8vf",
    "outputId": "d67b0d21-7083-47bf-ce70-27e5b6091483"
   },
   "id": "50btTucDm8vf",
   "execution_count": 1,
   "outputs": [
    {
     "output_type": "error",
     "ename": "MessageError",
     "evalue": "ignored",
     "traceback": [
      "\u001B[0;31m---------------------------------------------------------------------------\u001B[0m",
      "\u001B[0;31mMessageError\u001B[0m                              Traceback (most recent call last)",
      "\u001B[0;32m<ipython-input-1-d5df0069828e>\u001B[0m in \u001B[0;36m<module>\u001B[0;34m\u001B[0m\n\u001B[1;32m      1\u001B[0m \u001B[0;32mfrom\u001B[0m \u001B[0mgoogle\u001B[0m\u001B[0;34m.\u001B[0m\u001B[0mcolab\u001B[0m \u001B[0;32mimport\u001B[0m \u001B[0mdrive\u001B[0m\u001B[0;34m\u001B[0m\u001B[0;34m\u001B[0m\u001B[0m\n\u001B[0;32m----> 2\u001B[0;31m \u001B[0mdrive\u001B[0m\u001B[0;34m.\u001B[0m\u001B[0mmount\u001B[0m\u001B[0;34m(\u001B[0m\u001B[0;34m'/content/drive'\u001B[0m\u001B[0;34m)\u001B[0m\u001B[0;34m\u001B[0m\u001B[0;34m\u001B[0m\u001B[0m\n\u001B[0m",
      "\u001B[0;32m/usr/local/lib/python3.7/dist-packages/google/colab/drive.py\u001B[0m in \u001B[0;36mmount\u001B[0;34m(mountpoint, force_remount, timeout_ms, readonly)\u001B[0m\n\u001B[1;32m    104\u001B[0m       \u001B[0mtimeout_ms\u001B[0m\u001B[0;34m=\u001B[0m\u001B[0mtimeout_ms\u001B[0m\u001B[0;34m,\u001B[0m\u001B[0;34m\u001B[0m\u001B[0;34m\u001B[0m\u001B[0m\n\u001B[1;32m    105\u001B[0m       \u001B[0mephemeral\u001B[0m\u001B[0;34m=\u001B[0m\u001B[0;32mTrue\u001B[0m\u001B[0;34m,\u001B[0m\u001B[0;34m\u001B[0m\u001B[0;34m\u001B[0m\u001B[0m\n\u001B[0;32m--> 106\u001B[0;31m       readonly=readonly)\n\u001B[0m\u001B[1;32m    107\u001B[0m \u001B[0;34m\u001B[0m\u001B[0m\n\u001B[1;32m    108\u001B[0m \u001B[0;34m\u001B[0m\u001B[0m\n",
      "\u001B[0;32m/usr/local/lib/python3.7/dist-packages/google/colab/drive.py\u001B[0m in \u001B[0;36m_mount\u001B[0;34m(mountpoint, force_remount, timeout_ms, ephemeral, readonly)\u001B[0m\n\u001B[1;32m    123\u001B[0m   \u001B[0;32mif\u001B[0m \u001B[0mephemeral\u001B[0m\u001B[0;34m:\u001B[0m\u001B[0;34m\u001B[0m\u001B[0;34m\u001B[0m\u001B[0m\n\u001B[1;32m    124\u001B[0m     _message.blocking_request(\n\u001B[0;32m--> 125\u001B[0;31m         'request_auth', request={'authType': 'dfs_ephemeral'}, timeout_sec=None)\n\u001B[0m\u001B[1;32m    126\u001B[0m \u001B[0;34m\u001B[0m\u001B[0m\n\u001B[1;32m    127\u001B[0m   \u001B[0mmountpoint\u001B[0m \u001B[0;34m=\u001B[0m \u001B[0m_os\u001B[0m\u001B[0;34m.\u001B[0m\u001B[0mpath\u001B[0m\u001B[0;34m.\u001B[0m\u001B[0mexpanduser\u001B[0m\u001B[0;34m(\u001B[0m\u001B[0mmountpoint\u001B[0m\u001B[0;34m)\u001B[0m\u001B[0;34m\u001B[0m\u001B[0;34m\u001B[0m\u001B[0m\n",
      "\u001B[0;32m/usr/local/lib/python3.7/dist-packages/google/colab/_message.py\u001B[0m in \u001B[0;36mblocking_request\u001B[0;34m(request_type, request, timeout_sec, parent)\u001B[0m\n\u001B[1;32m    169\u001B[0m   request_id = send_request(\n\u001B[1;32m    170\u001B[0m       request_type, request, parent=parent, expect_reply=True)\n\u001B[0;32m--> 171\u001B[0;31m   \u001B[0;32mreturn\u001B[0m \u001B[0mread_reply_from_input\u001B[0m\u001B[0;34m(\u001B[0m\u001B[0mrequest_id\u001B[0m\u001B[0;34m,\u001B[0m \u001B[0mtimeout_sec\u001B[0m\u001B[0;34m)\u001B[0m\u001B[0;34m\u001B[0m\u001B[0;34m\u001B[0m\u001B[0m\n\u001B[0m",
      "\u001B[0;32m/usr/local/lib/python3.7/dist-packages/google/colab/_message.py\u001B[0m in \u001B[0;36mread_reply_from_input\u001B[0;34m(message_id, timeout_sec)\u001B[0m\n\u001B[1;32m    100\u001B[0m         reply.get('colab_msg_id') == message_id):\n\u001B[1;32m    101\u001B[0m       \u001B[0;32mif\u001B[0m \u001B[0;34m'error'\u001B[0m \u001B[0;32min\u001B[0m \u001B[0mreply\u001B[0m\u001B[0;34m:\u001B[0m\u001B[0;34m\u001B[0m\u001B[0;34m\u001B[0m\u001B[0m\n\u001B[0;32m--> 102\u001B[0;31m         \u001B[0;32mraise\u001B[0m \u001B[0mMessageError\u001B[0m\u001B[0;34m(\u001B[0m\u001B[0mreply\u001B[0m\u001B[0;34m[\u001B[0m\u001B[0;34m'error'\u001B[0m\u001B[0;34m]\u001B[0m\u001B[0;34m)\u001B[0m\u001B[0;34m\u001B[0m\u001B[0;34m\u001B[0m\u001B[0m\n\u001B[0m\u001B[1;32m    103\u001B[0m       \u001B[0;32mreturn\u001B[0m \u001B[0mreply\u001B[0m\u001B[0;34m.\u001B[0m\u001B[0mget\u001B[0m\u001B[0;34m(\u001B[0m\u001B[0;34m'data'\u001B[0m\u001B[0;34m,\u001B[0m \u001B[0;32mNone\u001B[0m\u001B[0;34m)\u001B[0m\u001B[0;34m\u001B[0m\u001B[0;34m\u001B[0m\u001B[0m\n\u001B[1;32m    104\u001B[0m \u001B[0;34m\u001B[0m\u001B[0m\n",
      "\u001B[0;31mMessageError\u001B[0m: Error: credential propagation was unsuccessful"
     ]
    }
   ]
  },
  {
   "cell_type": "markdown",
   "source": [
    "# 데이터 셋\n",
    "\n",
    "# 데이터 path만 설정하주면 됩니닷. 일단 데이터 개수는 train은 각각 4개 분야별로 15만개씩 총 60만개 데이터고 valid는 5000개씩 2만개"
   ],
   "metadata": {
    "collapsed": false
   }
  },
  {
   "cell_type": "code",
   "execution_count": null,
   "id": "1d5ced40",
   "metadata": {
    "id": "1d5ced40"
   },
   "outputs": [],
   "source": [
    "import pandas as pd\n",
    "path = '/content/drive/MyDrive/data/'\n",
    "df = pd.read_csv(path+'기술과학분야_train_set.csv',index_col=0)\n",
    "df_val = pd.read_csv(path+'기술과학분야_valid_set.csv',index_col=0)"
   ]
  },
  {
   "cell_type": "code",
   "execution_count": null,
   "id": "2d441625",
   "metadata": {
    "id": "2d441625"
   },
   "outputs": [],
   "source": [
    "df = df.drop(index=df[df['domain'] == '기후'].index)\n",
    "df = df.reset_index(drop=True)"
   ]
  },
  {
   "cell_type": "code",
   "execution_count": null,
   "id": "a5e06856",
   "metadata": {
    "id": "a5e06856"
   },
   "outputs": [],
   "source": [
    "\n",
    "train = pd.concat([df.loc[df['domain']=='기술과학'].sample(150000),df.loc[df['domain']=='세계'].sample(150000),df.loc[df['domain']=='정치'].sample(150000),df.loc[df['domain']=='경제'].sample(150000)]).sample(600000).reset_index(drop=True)\n",
    "valid = pd.concat([df.loc[df['domain']=='기술과학'].sample(5000),df.loc[df['domain']=='세계'].sample(5000),df.loc[df['domain']=='정치'].sample(5000),df.loc[df['domain']=='경제'].sample(5000)]).sample(20000).reset_index(drop=True)\n",
    "\n",
    "train['labels'] = train['domain'].replace(['세계', '경제', '기술과학','정치'],[0, 1, 2, 3])\n",
    "valid['labels'] = valid['domain'].replace(['세계', '경제', '기술과학','정치'],[0, 1, 2, 3])"
   ]
  },
  {
   "cell_type": "markdown",
   "source": [
    "# 모델링"
   ],
   "metadata": {
    "id": "rGRc9zLaGRqd"
   },
   "id": "rGRc9zLaGRqd"
  },
  {
   "cell_type": "code",
   "source": [
    "! pip install transformers"
   ],
   "metadata": {
    "id": "SlHT-hQhnhye"
   },
   "id": "SlHT-hQhnhye",
   "execution_count": null,
   "outputs": []
  },
  {
   "cell_type": "code",
   "execution_count": null,
   "id": "24701fd4",
   "metadata": {
    "id": "24701fd4"
   },
   "outputs": [],
   "source": [
    "import pandas as pd\n",
    "import numpy as np\n",
    "import matplotlib.pyplot as plt\n",
    "\n",
    "import torch\n",
    "import torch.nn as nn\n",
    "import torch.nn.functional as F\n",
    "import torch.optim as optim\n",
    "from torch.utils.data import Dataset, DataLoader\n",
    "\n",
    "from transformers import AutoModel, AutoTokenizer,BertForSequenceClassification\n",
    "\n",
    "\n",
    "model = BertForSequenceClassification.from_pretrained(\"klue/bert-base\",num_labels=4)\n",
    "tokenizer = AutoTokenizer.from_pretrained(\"klue/bert-base\")\n",
    "# \n",
    "device = torch.device(\"cuda:0\" if torch.cuda.is_available() else \"cpu\")\n",
    "model.to(device)"
   ]
  },
  {
   "cell_type": "code",
   "execution_count": null,
   "id": "97746eff",
   "metadata": {
    "id": "97746eff"
   },
   "outputs": [],
   "source": [
    "class CustomDataset(Dataset):\n",
    "\n",
    "    def __init__(self,text, label,tokenizer, max_len):\n",
    "        self.tokenizer = tokenizer\n",
    "        self.text = text\n",
    "        self.labels = label\n",
    "        self.max_len = max_len\n",
    "\n",
    "    def __len__(self):\n",
    "        return len(self.labels)\n",
    "\n",
    "    def __getitem__(self, index):\n",
    "        text = str(self.text[index])\n",
    "        inputs = self.tokenizer.encode_plus(\n",
    "            text,\n",
    "            None,\n",
    "            add_special_tokens=True,\n",
    "            max_length=self.max_len,\n",
    "            pad_to_max_length=True,\n",
    "            return_token_type_ids=True\n",
    "        )\n",
    "        ids = inputs['input_ids']\n",
    "        mask = inputs['attention_mask']\n",
    "        token_type_ids = inputs[\"token_type_ids\"]\n",
    "\n",
    "\n",
    "        return {\n",
    "            'input_ids': torch.tensor(ids, dtype=torch.long),\n",
    "            'attention_mask': torch.tensor(mask, dtype=torch.long),\n",
    "            'token_type_ids': torch.tensor(token_type_ids, dtype=torch.long),\n",
    "            'labels': torch.tensor(self.labels[index], dtype=torch.float),\n",
    "            }\n",
    "    \n",
    "\n",
    "\n",
    "training_set = CustomDataset(train['ko'],train['labels'], tokenizer, 128)\n",
    "testing_set = CustomDataset(valid['ko'], valid['labels'],tokenizer, 128)\n",
    "\n",
    "train_params = {'batch_size': 32,\n",
    "                'shuffle': True,\n",
    "                'num_workers': 0\n",
    "                }\n",
    "\n",
    "test_params = {'batch_size': 32,\n",
    "                'shuffle': True,\n",
    "                'num_workers': 0\n",
    "                }\n",
    "\n",
    "training_loader = DataLoader(training_set, **train_params)\n",
    "testing_loader = DataLoader(testing_set, **test_params)"
   ]
  },
  {
   "cell_type": "code",
   "execution_count": null,
   "id": "524cb2dc",
   "metadata": {
    "id": "524cb2dc"
   },
   "outputs": [],
   "source": [
    "loss_fn = nn.CrossEntropyLoss() \n",
    "\n",
    "LEARNING_RATE = 5e-5\n",
    "optimizer = torch.optim.AdamW(params =  model.parameters(), lr=LEARNING_RATE)\n",
    "\n",
    "\n",
    "train_steps = len(training_loader.dataset) // train_params['batch_size']\n",
    "val_steps = len(testing_loader.dataset) // test_params['batch_size']\n"
   ]
  },
  {
   "cell_type": "markdown",
   "source": [
    "# 모델 저장용 PATH 따로 설정해죠!! 존재하는 디렉토리로 설정해줘야됑"
   ],
   "metadata": {
    "collapsed": false
   }
  },
  {
   "cell_type": "code",
   "execution_count": null,
   "id": "f03b57db",
   "metadata": {
    "id": "f03b57db"
   },
   "outputs": [],
   "source": [
    "from tqdm import tqdm\n",
    "epochs= 20\n",
    "PATH = \"따로 설정해줘!!!\"\n",
    "\n",
    "for epoch in (range(epochs)):\n",
    "    model.train()\n",
    "    num_correct = 0\n",
    "    trainning_loss = 0\n",
    "    for i, data in enumerate(tqdm(training_loader)):\n",
    "        \n",
    "        ids = data['input_ids'].to(device, dtype = torch.long)\n",
    "        mask = data['attention_mask'].to(device, dtype = torch.long)\n",
    "        token_type_ids = data['token_type_ids'].to(device, dtype = torch.long)\n",
    "        label = data['labels'].to(device, dtype = torch.long)\n",
    "\n",
    "        optimizer.zero_grad()\n",
    "        \n",
    "        output = model(ids, mask, token_type_ids)\n",
    "        print(output)\n",
    "        loss = loss_fn(output[0], label)\n",
    "        trainning_loss += loss\n",
    "        loss.backward()\n",
    "        optimizer.step()\n",
    "        if i % 1000 == 0:\n",
    "          print(\"Training Losses: {}\".format(trainning_loss/i+1))\n",
    "          print(\"Trainong Accuracy:{}\".format(num_correct/i+1))\n",
    "    \n",
    "        pred = output[0].argmax(dim=1)\n",
    "        num_correct += torch.eq(pred,label).sum().float().item()\n",
    "        \n",
    "\n",
    "\n",
    "    print('EPOCH ', epoch+1)\n",
    "    print(\"Training Losses: {}\".format(trainning_loss/len(training_loader.dataset)))\n",
    "    print(\"Trainong Accuracy:{}\".format(num_correct/len(training_loader.dataset)))\n",
    "    \n",
    "    \n",
    "    \n",
    "    if epoch % 5 == 0 or epoch == epochs-1:\n",
    "        torch.save({\n",
    "                    'epoch': epoch,\n",
    "                    'model_state_dict': model.state_dict(),\n",
    "                    'optimizer_state_dict': optimizer.state_dict(),\n",
    "                    'loss': trainning_loss,\n",
    "                    }, PATH+f\"model600000data{epoch}.pt\")\n",
    "  "
   ]
  },
  {
   "cell_type": "code",
   "execution_count": null,
   "id": "0c0f4100",
   "metadata": {
    "id": "0c0f4100"
   },
   "outputs": [],
   "source": [
    "model.eval()\n",
    "num_correct = 0\n",
    "\n",
    "for i, data in enumerate(tqdm(testing_loader)):\n",
    "\n",
    "      ids = data['input_ids'].to(device, dtype = torch.long)\n",
    "      mask = data['attention_mask'].to(device, dtype = torch.long)\n",
    "      token_type_ids = data['token_type_ids'].to(device, dtype = torch.long)\n",
    "      label = data['labels'].to(device, dtype = torch.long)\n",
    "\n",
    "\n",
    "      optimizer.zero_grad()\n",
    "\n",
    "      output = model(ids, mask, token_type_ids)\n",
    "      loss = loss_fn(output[0], label)\n",
    "      optimizer.step()\n",
    "\n",
    "      pred = output[0].argmax(dim=1)\n",
    "      num_correct += torch.eq(pred, label).sum().float().item()\n",
    "\n",
    "\n",
    "print('EPOCH ', epoch+1)\n",
    "print(\"validation Losses: {}\".format(loss))\n",
    "print(\"validation Accuracy:{}\".format(num_correct/len(testing_loader.dataset)))\n"
   ]
  },
  {
   "cell_type": "markdown",
   "source": [
    "# keyphrase classification(키워드 뽑은거 돌려 보는 부분 부분)\n"
   ],
   "metadata": {
    "id": "6_1Y9XXoGNTE"
   },
   "id": "6_1Y9XXoGNTE"
  },
  {
   "cell_type": "code",
   "source": [
    "import json\n",
    "\n",
    "file_path = \"/content/drive/MyDrive/data/keywords.json\"\n",
    "\n",
    "with open(file_path, 'r') as file:\n",
    "    keywords = json.load(file)\n",
    "    "
   ],
   "metadata": {
    "id": "ooroxvSNGUyS"
   },
   "id": "ooroxvSNGUyS",
   "execution_count": null,
   "outputs": []
  },
  {
   "cell_type": "code",
   "source": [
    "category = ['사회', '경제', '기술과학','정치']\n",
    "keyword_params = {'batch_size': 5,\n",
    "                'shuffle': True,\n",
    "                'num_workers': 0\n",
    "                }\n",
    "for keyword in keywords:\n",
    "  keyword_5 = list(keyword.values())[0]\n",
    "  keyword_set = CustomDataset(keyword_5,[-1]*len(keyword_5), tokenizer, 128)\n",
    "  keyword_loader = DataLoader(keyword_set, **keyword_params)\n",
    "  for i, data in enumerate((keyword_loader)):\n",
    "\n",
    "    ids = data['input_ids'].to(device, dtype = torch.long)\n",
    "    mask = data['attention_mask'].to(device, dtype = torch.long)\n",
    "    token_type_ids = data['token_type_ids'].to(device, dtype = torch.long)\n",
    "    label = data['labels'].to(device, dtype = torch.long)\n",
    "\n",
    "    output = model(ids, mask, token_type_ids)\n",
    "    \n",
    "    pred = pd.Series(output[0].argmax(dim=1).cpu().numpy()).replace([0,1,2,3],category)\n",
    "    print([(keyword_5[i],pred[i]) for i in range(5)])"
   ],
   "metadata": {
    "id": "sty4VbDCKwRI",
    "pycharm": {
     "name": "#%%\n"
    }
   },
   "id": "sty4VbDCKwRI",
   "execution_count": null,
   "outputs": []
  }
 ],
 "metadata": {
  "kernelspec": {
   "display_name": "PyTorch 1.10 (NGC 21.11/Python 3.8 Conda) on Backend.AI",
   "language": "python",
   "name": "python3"
  },
  "language_info": {
   "codemirror_mode": {
    "name": "ipython",
    "version": 3
   },
   "file_extension": ".py",
   "mimetype": "text/x-python",
   "name": "python",
   "nbconvert_exporter": "python",
   "pygments_lexer": "ipython3",
   "version": "3.8.12"
  },
  "colab": {
   "provenance": [],
   "collapsed_sections": [],
   "machine_shape": "hm"
  },
  "accelerator": "GPU"
 },
 "nbformat": 4,
 "nbformat_minor": 5
}